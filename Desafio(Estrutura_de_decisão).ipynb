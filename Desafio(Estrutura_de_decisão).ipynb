{
  "nbformat": 4,
  "nbformat_minor": 0,
  "metadata": {
    "colab": {
      "name": "Desafio(Estrutura de decisão)",
      "provenance": [],
      "authorship_tag": "ABX9TyNwNPEMXnzztXzTg++qfTvp",
      "include_colab_link": true
    },
    "kernelspec": {
      "name": "python3",
      "display_name": "Python 3"
    },
    "language_info": {
      "name": "python"
    }
  },
  "cells": [
    {
      "cell_type": "markdown",
      "metadata": {
        "id": "view-in-github",
        "colab_type": "text"
      },
      "source": [
        "<a href=\"https://colab.research.google.com/github/iamallana/etepd.Lpc/blob/main/Desafio(Estrutura_de_decis%C3%A3o).ipynb\" target=\"_parent\"><img src=\"https://colab.research.google.com/assets/colab-badge.svg\" alt=\"Open In Colab\"/></a>"
      ]
    },
    {
      "cell_type": "code",
      "execution_count": 4,
      "metadata": {
        "id": "6x6zBMw00KzP",
        "colab": {
          "base_uri": "https://localhost:8080/"
        },
        "outputId": "0bff9194-ab47-403f-a869-f3b8bbdac581"
      },
      "outputs": [
        {
          "output_type": "stream",
          "name": "stdout",
          "text": [
            "digite um número6\n",
            "digite um segundo número10\n",
            "o maior número é o 10\n"
          ]
        }
      ],
      "source": [
        "n1 = int(input(\"digite um número\"))\n",
        "n2 = int(input(\"digite um segundo número\"))\n",
        "\n",
        "if n1>n2:\n",
        "  print(f'o maior número é o {n1}')\n",
        "else:\n",
        "  print(f'o maior número é o {n2}')"
      ]
    },
    {
      "cell_type": "code",
      "source": [
        "n1 = int(input(\"Digite um número:\"))\n",
        "\n",
        "if n1 < 0:\n",
        "    print ('O numero é negativo')\n",
        "else:\n",
        "    print ('O numero é positivo')"
      ],
      "metadata": {
        "colab": {
          "base_uri": "https://localhost:8080/"
        },
        "id": "mzqJ44D-21UG",
        "outputId": "432208b3-2c6d-4674-eeae-ed002b0f98f4"
      },
      "execution_count": 7,
      "outputs": [
        {
          "output_type": "stream",
          "name": "stdout",
          "text": [
            "Digite um número:3\n",
            "O numero é positivo\n"
          ]
        }
      ]
    },
    {
      "cell_type": "code",
      "source": [
        "sexo = str(input('Digite (F)-Feminino, (M)-Masculino: '))\n",
        "if sexo == 'M':\n",
        "    print('Sexo Masculino.')\n",
        "elif sexo == 'F':\n",
        "    print('Sexo Feminino.')\n",
        "else:\n",
        "    print('Sexo Inválido.')"
      ],
      "metadata": {
        "colab": {
          "base_uri": "https://localhost:8080/"
        },
        "id": "a6UtIm_R34Xu",
        "outputId": "75e18dfe-4c41-4cdb-9bfc-9f405c5a4fc5"
      },
      "execution_count": 9,
      "outputs": [
        {
          "output_type": "stream",
          "name": "stdout",
          "text": [
            "Digite (F)-Feminino, (M)-Masculino: F\n",
            "Sexo Feminino.\n"
          ]
        }
      ]
    },
    {
      "cell_type": "code",
      "source": [
        "var = input(\"digite uma letra ou consoante:\")\n",
        "\n",
        "if var ==\"a\":\n",
        "    print(\"Vogal\")\n",
        "elif var == \"e\":\n",
        "    print(\"Vogal\")\n",
        "elif var == \"i\":\n",
        "    print(\"Vogal\")\n",
        "elif var == \"o\":\n",
        "    print(\"Vogal\")\n",
        "elif var == \"u\":\n",
        "    print(\"Vogal\")\n",
        "    print(\"Insira uma letra ou consoante\")\n",
        "else:\n",
        "    print(\"Consoante\")"
      ],
      "metadata": {
        "colab": {
          "base_uri": "https://localhost:8080/"
        },
        "id": "a-QTBc9X4uv-",
        "outputId": "6206afe8-abdb-41eb-f824-db4ce26907df"
      },
      "execution_count": 12,
      "outputs": [
        {
          "output_type": "stream",
          "name": "stdout",
          "text": [
            "digite uma letra ou consoante:a\n",
            "Vogal\n"
          ]
        }
      ]
    },
    {
      "cell_type": "code",
      "source": [
        "primeiro = int(input(\"Primeiro numero:\"))\n",
        "segundo  = int(input(\"Segundo numero :\"))\n",
        "terceiro = int(input(\"Terceiro numero:\"))\n",
        "\n",
        "var = primeiro\n",
        "\n",
        "if (segundo > var):\n",
        "        var\n",
        "        var = segundo\n",
        "if (terceiro > var):\n",
        "      var  = terceiro\n",
        "\n",
        "print('Maior número: ',var)"
      ],
      "metadata": {
        "colab": {
          "base_uri": "https://localhost:8080/"
        },
        "id": "SHmKZR9x7Q1y",
        "outputId": "a86de4ca-6803-4a81-a31d-f0b62c806aad"
      },
      "execution_count": 14,
      "outputs": [
        {
          "output_type": "stream",
          "name": "stdout",
          "text": [
            "Primeiro numero:10\n",
            "Segundo numero :7\n",
            "Terceiro numero:8\n",
            "Maior número:  10\n"
          ]
        }
      ]
    },
    {
      "cell_type": "code",
      "source": [
        "var1 = int(input(\"Digite o primeiro valor:\"))\n",
        "var2 = int(input(\"Digite o segundo valor:\"))\n",
        "var3 = int(input(\"Digite o terceiro valor:\"))\n",
        "maior = var1\n",
        "if var2 > var1 and var2 > var3:\n",
        "    maior = var2\n",
        "if var3 > var1 and var3 > var2:\n",
        "    maior = var3\n",
        "menor = var1\n",
        "if var2 < var3 and var2 < var1:\n",
        "    menor = var2\n",
        "if var3 < var2 and var3 < var1:\n",
        "    menor = var3\n",
        "print(f\"O menor número digitado foi {menor}\")\n",
        "print(f\"O maior número digitado foi {maior}\")\n"
      ],
      "metadata": {
        "colab": {
          "base_uri": "https://localhost:8080/"
        },
        "id": "aYNOAO-a9b7X",
        "outputId": "1952be16-d48a-4fa2-fea9-d11f6746ec3a"
      },
      "execution_count": 15,
      "outputs": [
        {
          "output_type": "stream",
          "name": "stdout",
          "text": [
            "Digite o primeiro valor:2\n",
            "Digite o segundo valor:4\n",
            "Digite o terceiro valor:7\n",
            "O menor número digitado foi 2\n",
            "O maior número digitado foi 7\n"
          ]
        }
      ]
    },
    {
      "cell_type": "code",
      "source": [
        "p1  =  float ( input ( \"Digite o primeiro preço:\"))\n",
        "p2  =  float ( input ( \"Digite o segundo preço:\"))\n",
        "p3  =  float ( input ( \"Digite o terceiro preço:\"))\n",
        "\n",
        "if ( p1  <  p2 ) and ( p1  <  p3 ):\n",
        "  print ( \"O menor preço é: \"  +  str ( p1 ))\n",
        "elif ( p2  <  p1 ) and ( p2  <  p3 ):\n",
        "  print ( \"O menor preço é: \"  +  str ( p2 ))\n",
        "else :\n",
        "  print ( \"O menor preço é: \"  +  str ( p3 ))"
      ],
      "metadata": {
        "colab": {
          "base_uri": "https://localhost:8080/"
        },
        "id": "kgdTQHSpAEp9",
        "outputId": "ccc207cc-76c2-4f34-e113-c4043a43ce4f"
      },
      "execution_count": 18,
      "outputs": [
        {
          "output_type": "stream",
          "name": "stdout",
          "text": [
            "Digite o primeiro preço:3.49\n",
            "Digite o segundo preço:5.89\n",
            "Digite o terceiro preço:6.99\n",
            "O menor preço é: 3.49\n"
          ]
        }
      ]
    },
    {
      "cell_type": "code",
      "source": [
        "primeiro = int(input('Primeiro numero: '))\n",
        "segundo  = int(input('Segundo numero : '))\n",
        "terceiro = int(input('Terceiro numero: '))\n",
        "\n",
        "print(primeiro,'-',segundo,'-',terceiro)\n",
        "\n",
        "if(terceiro > segundo):\n",
        "        aux = terceiro\n",
        "        terceiro = segundo\n",
        "        segundo = aux\n",
        "\n",
        "if(segundo > primeiro):\n",
        "        aux = segundo\n",
        "        segundo = primeiro\n",
        "        primeiro = aux\n",
        "\n",
        "if(terceiro > segundo):\n",
        "        aux = terceiro\n",
        "        terceiro = segundo\n",
        "        segundo = aux\n",
        "\n",
        "print(primeiro,'-',segundo,'-',terceiro)"
      ],
      "metadata": {
        "colab": {
          "base_uri": "https://localhost:8080/"
        },
        "id": "Zfz8dHKDBcUc",
        "outputId": "929ef095-1e57-4781-f50d-b97b51865627"
      },
      "execution_count": 19,
      "outputs": [
        {
          "output_type": "stream",
          "name": "stdout",
          "text": [
            "Primeiro numero: 4\n",
            "Segundo numero : 5\n",
            "Terceiro numero: 7\n",
            "4 - 5 - 7\n",
            "7 - 5 - 4\n"
          ]
        }
      ]
    },
    {
      "cell_type": "code",
      "source": [
        "turno = str(input(\"Digite em que turno você estuda: M=maturnino, V=vespertino ou N-noturno:\"))\n",
        "\n",
        "if turno == 'M':\n",
        "    print('Bom dia!')\n",
        "\n",
        "elif turno == 'V':\n",
        "    print('Boa tarde!')\n",
        "\n",
        "elif turno == 'N':\n",
        "    print('Boa noite!')\n",
        "\n",
        "else:\n",
        "    print('Valor inválido!')"
      ],
      "metadata": {
        "colab": {
          "base_uri": "https://localhost:8080/"
        },
        "id": "fFOPAGTyDY2x",
        "outputId": "63fb1a03-33d4-48fb-98e5-0565e50e69f3"
      },
      "execution_count": 20,
      "outputs": [
        {
          "output_type": "stream",
          "name": "stdout",
          "text": [
            "Digite em que turno você estuda: M=maturnino, V=vespertino ou N-noturno:N\n",
            "Boa noite!\n"
          ]
        }
      ]
    },
    {
      "cell_type": "code",
      "source": [
        "ano = int(input(\"Ano:\"))\n",
        "if (ano%4==0 and ano%100!=0) or (ano%400==0):\n",
        "    print('Bissexto')\n",
        "else:\n",
        "    print('Não é bissexto')"
      ],
      "metadata": {
        "colab": {
          "base_uri": "https://localhost:8080/"
        },
        "id": "9_ciwlZTD4q3",
        "outputId": "5de8a2af-5116-4f73-97bb-5b9c400f379e"
      },
      "execution_count": 21,
      "outputs": [
        {
          "output_type": "stream",
          "name": "stdout",
          "text": [
            "Ano:365\n",
            "Não é bissexto\n"
          ]
        }
      ]
    },
    {
      "cell_type": "code",
      "source": [
        "    dia = int( input(\"Dia:\") )\n",
        "    mes = int( input(\"Mês:\") )\n",
        "    ano = int( input(\"Ano:\") )\n",
        "\n",
        "    valida = False\n",
        "    \n",
        "    if( mes==1 or mes==3 or mes==5 or mes==7 or \\\n",
        "        mes==8 or mes==10 or mes==12):\n",
        "        if(dia<=31):\n",
        "            valida = True\n",
        "\n",
        "    elif( mes==4 or mes==6 or mes==9 or mes==11):\n",
        "        if(dia<=30):\n",
        "            valida = True\n",
        "    elif mes==2:\n",
        "        # Testa se é bissexto\n",
        "        if (ano%4==0 and ano%100!=0) or (ano%400==0):\n",
        "            if(dia<=29):\n",
        "                valida = True\n",
        "        elif(dia<=28):\n",
        "                valida = True\n",
        "\n",
        "    if(valida):\n",
        "        print('Data válida')\n",
        "    else:\n",
        "        print('Inválida')\n"
      ],
      "metadata": {
        "colab": {
          "base_uri": "https://localhost:8080/"
        },
        "id": "qsJdEMTYExxW",
        "outputId": "f3972632-37c6-4778-9ea2-1212b089c6f3"
      },
      "execution_count": 22,
      "outputs": [
        {
          "output_type": "stream",
          "name": "stdout",
          "text": [
            "Dia:26\n",
            "Mês:05\n",
            "Ano:2020\n",
            "Data válida\n"
          ]
        }
      ]
    },
    {
      "cell_type": "code",
      "source": [
        "print(\"Utilize 'S' para sim ou 'N' para não nas seguintes perguntas:\")\n",
        "telefonou = input(\"Você telefonou para a vítima?\")\n",
        "if(telefonou != 'S') and (telefonou != 'N'):\n",
        "  print(\"Responda com 'S' ou 'N'.\")\n",
        "else:\n",
        "  esteve = input(\"Você esteve no local do crime?\")\n",
        "  if(esteve != 'S') and (esteve != 'N'):\n",
        "    print(\"Responda com 'S' ou 'N'.\")\n",
        "  else:\n",
        "    mora = input(\"Você mora perto de vítima?\")\n",
        "    if(mora != 'S') and (mora != 'N'):\n",
        "      print(\"Responda com 'S' ou 'N'.\")\n",
        "    else:\n",
        "      devia = input(\"Você devia para a vítima?\")\n",
        "      if(devia != 'S') and (devia != 'N'):\n",
        "        print(\"Responda com 'S' ou 'N'.\")\n",
        "      else:\n",
        "        trabalhou = input(\"Já trabalhou com a vítima?\")\n",
        "        if(trabalhou != 'S') and (trabalhou != 'N'):\n",
        "          print(\"Responda com 'S' ou 'N'.\")\n",
        "        else:\n",
        "\n",
        "          answers = [telefonou, esteve  ,mora , devia , trabalhou]\n",
        "          counter = answers.count(\"S\")\n",
        "          if(counter == 2):\n",
        "            print(\"Você é suspeito.\")\n",
        "          elif(counter == 3) or (counter == 4):\n",
        "            print(\"Você é cúmplice.\")\n",
        "          elif(counter == 5):\n",
        "            print(\"Você é assacino .\")\n",
        "          else:\n",
        "            print(\"Você é inocente.\")"
      ],
      "metadata": {
        "colab": {
          "base_uri": "https://localhost:8080/"
        },
        "id": "3znJn9Y5GOfs",
        "outputId": "e9aaf445-e37f-4321-dad3-cc114030fc65"
      },
      "execution_count": 28,
      "outputs": [
        {
          "output_type": "stream",
          "name": "stdout",
          "text": [
            "Utilize 'S' para sim ou 'N' para não nas seguintes perguntas:\n",
            "Você telefonou para a vítima?N\n",
            "Você esteve no local do crime?S\n",
            "Você mora perto de vítima?S\n",
            "Você devia para a vítima?N\n",
            "Já trabalhou com a vítima?N\n",
            "Você é suspeito.\n"
          ]
        }
      ]
    }
  ]
}