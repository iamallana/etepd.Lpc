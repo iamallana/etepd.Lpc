{
  "nbformat": 4,
  "nbformat_minor": 0,
  "metadata": {
    "colab": {
      "name": "Untitled6.ipynb",
      "provenance": [],
      "authorship_tag": "ABX9TyPQjhZRCaqTElhE+wtjQSXY",
      "include_colab_link": true
    },
    "kernelspec": {
      "name": "python3",
      "display_name": "Python 3"
    },
    "language_info": {
      "name": "python"
    }
  },
  "cells": [
    {
      "cell_type": "markdown",
      "metadata": {
        "id": "view-in-github",
        "colab_type": "text"
      },
      "source": [
        "<a href=\"https://colab.research.google.com/github/iamallana/etepd.Lpc/blob/main/02/05/2022.ipynb\" target=\"_parent\"><img src=\"https://colab.research.google.com/assets/colab-badge.svg\" alt=\"Open In Colab\"/></a>"
      ]
    },
    {
      "cell_type": "code",
      "execution_count": 15,
      "metadata": {
        "colab": {
          "base_uri": "https://localhost:8080/"
        },
        "id": "2Ic_SXSF1dqH",
        "outputId": "2eafd3fd-0473-4919-8c8c-3d43b18695eb"
      },
      "outputs": [
        {
          "output_type": "stream",
          "name": "stdout",
          "text": [
            "digite sua altura:163\n",
            "digite seu peso:59\n",
            "0.002220633068613798\n"
          ]
        }
      ],
      "source": [
        "#TE PORTO DIGITAL\n",
        "#DISCIPLINA: LPC1\n",
        "#PROFESSOR: CLOVIS ROCHA\n",
        "#ALUNO(A): ALLANA ALBUQUERQUE\n",
        "altura =  float(input (\"digite sua altura:\"))\n",
        "peso = float(input (\"digite seu peso:\"))\n",
        "imc = peso/(altura*altura)\n",
        "print(imc)\n"
      ]
    },
    {
      "cell_type": "code",
      "source": [
        "notas = [10, #teste1\n",
        "         9, #teste2\n",
        "         8, #teste3\n",
        "         7] #teste4\n",
        "print(notas)\n",
        "media = sum(notas) / len (notas)\n",
        "print('A média é:' , media)"
      ],
      "metadata": {
        "colab": {
          "base_uri": "https://localhost:8080/"
        },
        "id": "GRV7s7lf2QyH",
        "outputId": "27d73015-cc3a-45af-f85c-fb93e2347ba2"
      },
      "execution_count": 16,
      "outputs": [
        {
          "output_type": "stream",
          "name": "stdout",
          "text": [
            "[10, 9, 8, 7]\n",
            "A média é: 8.5\n"
          ]
        }
      ]
    },
    {
      "cell_type": "code",
      "source": [
        "v1 = ['bom dia','boa tarde','boa noite']\n",
        "v2 = ['eu1','eu2','eu3']\n",
        "v3 = ['como vai?','que horas são?','vamos progrmas?' ]\n",
        "m1 = [v1,v2,v3]\n",
        "print(m1)"
      ],
      "metadata": {
        "colab": {
          "base_uri": "https://localhost:8080/"
        },
        "id": "vA3SaBTA2mFF",
        "outputId": "2307caf5-5649-4a9b-a3e7-d81b4d6398d6"
      },
      "execution_count": 17,
      "outputs": [
        {
          "output_type": "stream",
          "name": "stdout",
          "text": [
            "[['bom dia', 'boa tarde', 'boa noite'], ['eu1', 'eu2', 'eu3'], ['como vai?', 'que horas são?', 'vamos progrmas?']]\n"
          ]
        }
      ]
    }
  ]
}