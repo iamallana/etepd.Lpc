{
  "nbformat": 4,
  "nbformat_minor": 0,
  "metadata": {
    "colab": {
      "name": "desafio(estrutura sequencial)",
      "provenance": [],
      "collapsed_sections": [],
      "authorship_tag": "ABX9TyNujvqNpCa+7QBy8OR/CfcR",
      "include_colab_link": true
    },
    "kernelspec": {
      "name": "python3",
      "display_name": "Python 3"
    },
    "language_info": {
      "name": "python"
    }
  },
  "cells": [
    {
      "cell_type": "markdown",
      "metadata": {
        "id": "view-in-github",
        "colab_type": "text"
      },
      "source": [
        "<a href=\"https://colab.research.google.com/github/iamallana/etepd.Lpc/blob/main/desafio(estrutura_sequencial).ipynb\" target=\"_parent\"><img src=\"https://colab.research.google.com/assets/colab-badge.svg\" alt=\"Open In Colab\"/></a>"
      ]
    },
    {
      "cell_type": "code",
      "execution_count": null,
      "metadata": {
        "colab": {
          "base_uri": "https://localhost:8080/"
        },
        "id": "swG8PUrH9304",
        "outputId": "66cb9f42-672e-44a3-f4fe-6f378cffff45"
      },
      "outputs": [
        {
          "output_type": "stream",
          "name": "stdout",
          "text": [
            "alo ete porto digital\n"
          ]
        }
      ],
      "source": [
        "print(\"alo ete porto digital\")"
      ]
    },
    {
      "cell_type": "code",
      "source": [
        "number = input(\"digite um numero\")\n",
        "print(\"o numero informado foi % s\"% (number))"
      ],
      "metadata": {
        "colab": {
          "base_uri": "https://localhost:8080/"
        },
        "id": "btTy3ko0-q_B",
        "outputId": "db252d08-f9ca-4578-e4b3-361d1f0a08b4"
      },
      "execution_count": null,
      "outputs": [
        {
          "output_type": "stream",
          "name": "stdout",
          "text": [
            "digite um numero5\n",
            "o numero informado foi 5\n"
          ]
        }
      ]
    },
    {
      "cell_type": "code",
      "source": [
        "number1 = int (input(\"digite um numero:\"))\n",
        "number2 = int (input(\"digite o segundo numero:\"))\n",
        "print('soma dos dois numeros',(number1+number2))"
      ],
      "metadata": {
        "colab": {
          "base_uri": "https://localhost:8080/"
        },
        "id": "zHq0Xp9B-uJG",
        "outputId": "73a16a91-1f7e-4c02-c033-40725e424ba1"
      },
      "execution_count": null,
      "outputs": [
        {
          "output_type": "stream",
          "name": "stdout",
          "text": [
            "digite um numero:6\n",
            "digite o segundo numero:7\n",
            "soma dos dois numeros 13\n"
          ]
        }
      ]
    },
    {
      "cell_type": "code",
      "source": [
        "n1 = int(input(\"digite a primeria nota:\"))\n",
        "n2 = int(input(\"digite a segunda nota:\"))\n",
        "n3 = int(input(\"digite a terceira nota:\"))\n",
        "n4 = int(input(\"digite a quarta nota:\"))\n",
        "print('a soma das notas' , (n1+n2+n3+n4))\n",
        "print ('a media das notas' , (n1+n2+n3+n4/4))"
      ],
      "metadata": {
        "colab": {
          "base_uri": "https://localhost:8080/"
        },
        "id": "OCFYIdpN_Yc4",
        "outputId": "eefc71c5-f600-4841-e5b4-b51f4136fe28"
      },
      "execution_count": null,
      "outputs": [
        {
          "output_type": "stream",
          "name": "stdout",
          "text": [
            "digite a primeria nota:6\n",
            "digite a segunda nota:7\n",
            "digite a terceira nota:8\n",
            "digite a quarta nota:9\n",
            "a soma das notas 30\n",
            "a media das notas 23.25\n"
          ]
        }
      ]
    },
    {
      "cell_type": "code",
      "source": [
        "\n",
        "metrosparacentimetros = float(input(\"digite o metro:\"))\n",
        "print ('conversão em centimetros:') , (metrosparacentimetros * 100)"
      ],
      "metadata": {
        "colab": {
          "base_uri": "https://localhost:8080/"
        },
        "id": "dj7724-zCirx",
        "outputId": "76697851-5643-4d3d-edce-277869515764"
      },
      "execution_count": null,
      "outputs": [
        {
          "output_type": "stream",
          "name": "stdout",
          "text": [
            "digite o metro:1.7\n",
            "conversão em centimetros:\n"
          ]
        },
        {
          "output_type": "execute_result",
          "data": {
            "text/plain": [
              "(None, 170.0)"
            ]
          },
          "metadata": {},
          "execution_count": 22
        }
      ]
    },
    {
      "cell_type": "code",
      "source": [
        "raiodocirculo = float(input(\"digite o raio:\"))\n",
        "print ('area do circulo') , (raiodocirculo * 2 * 3.14)"
      ],
      "metadata": {
        "colab": {
          "base_uri": "https://localhost:8080/"
        },
        "id": "sQtvI97UKdQq",
        "outputId": "4393b4ee-d5c1-4ab4-9743-f60ac3b19d08"
      },
      "execution_count": null,
      "outputs": [
        {
          "output_type": "stream",
          "name": "stdout",
          "text": [
            "digite o raio:4\n",
            "area do circulo\n"
          ]
        },
        {
          "output_type": "execute_result",
          "data": {
            "text/plain": [
              "(None, 25.12)"
            ]
          },
          "metadata": {},
          "execution_count": 32
        }
      ]
    },
    {
      "cell_type": "code",
      "source": [
        "areadoquadrado = float(input(\"digite a altura do quadrado:\"))\n",
        "print ('area do quadrado:') , (areadoquadrado **2 * 2)\n",
        "\n"
      ],
      "metadata": {
        "colab": {
          "base_uri": "https://localhost:8080/"
        },
        "id": "VCvtgPu8K-qb",
        "outputId": "9eca6e80-0e99-49df-ddde-7c246a70798d"
      },
      "execution_count": null,
      "outputs": [
        {
          "output_type": "stream",
          "name": "stdout",
          "text": [
            "digite a altura do quadrado:8\n",
            "area do quadrado:\n"
          ]
        },
        {
          "output_type": "execute_result",
          "data": {
            "text/plain": [
              "(None, 128.0)"
            ]
          },
          "metadata": {},
          "execution_count": 39
        }
      ]
    },
    {
      "cell_type": "code",
      "source": [
        "var1 = int(input(\"quanto voce ganha por hora:\"))\n",
        "var2 = int(input(\"quantas horas voce trabalha no mes?\"))\n",
        "print ('total do salario no mes:') , (var1 * var2)"
      ],
      "metadata": {
        "id": "GQRA3jNRMdD6",
        "colab": {
          "base_uri": "https://localhost:8080/"
        },
        "outputId": "beed37c0-c096-45f2-98a5-28cce23b2f19"
      },
      "execution_count": 9,
      "outputs": [
        {
          "output_type": "stream",
          "name": "stdout",
          "text": [
            "quanto voce ganha por hora:14\n",
            "quantas horas voce trabalha no mes?200\n",
            "total do salario no mes:\n"
          ]
        },
        {
          "output_type": "execute_result",
          "data": {
            "text/plain": [
              "(None, 2800)"
            ]
          },
          "metadata": {},
          "execution_count": 9
        }
      ]
    },
    {
      "cell_type": "code",
      "source": [
        "f = float(input(\"temperatura em graus Fahrenheit:\"))\n",
        "print ('transforme e mostre a temperatura em graus Celsius:') , ( 5 * ((f-32) / 9))\n"
      ],
      "metadata": {
        "colab": {
          "base_uri": "https://localhost:8080/"
        },
        "id": "37SU5_nZClGX",
        "outputId": "7882d6f3-55d8-44a1-f447-63c4e23de199"
      },
      "execution_count": 10,
      "outputs": [
        {
          "output_type": "stream",
          "name": "stdout",
          "text": [
            "temperatura em graus Fahrenheit:80\n",
            "transforme e mostre a temperatura em graus Celsius:\n"
          ]
        },
        {
          "output_type": "execute_result",
          "data": {
            "text/plain": [
              "(None, 26.666666666666664)"
            ]
          },
          "metadata": {},
          "execution_count": 10
        }
      ]
    },
    {
      "cell_type": "code",
      "source": [
        "c = float(input(\"temperatura em graus Celsius:\"))\n",
        "print ('temperatura em Fahrenheit') , ( c * (9 / 5) + 32)"
      ],
      "metadata": {
        "colab": {
          "base_uri": "https://localhost:8080/"
        },
        "id": "vspjNtnmEQi9",
        "outputId": "a35eb6fa-7c3d-4238-c49e-4be9b8b70d95"
      },
      "execution_count": 35,
      "outputs": [
        {
          "output_type": "stream",
          "name": "stdout",
          "text": [
            "temperatura em graus Celsius:30\n",
            "temperatura em Fahrenheit\n"
          ]
        },
        {
          "output_type": "execute_result",
          "data": {
            "text/plain": [
              "(None, 86.0)"
            ]
          },
          "metadata": {},
          "execution_count": 35
        }
      ]
    },
    {
      "cell_type": "code",
      "source": [
        "var1 = int(input(\"primeiro número interio:\"))\n",
        "var2 = int(input(\"segundo número inteiro:\"))\n",
        "var3 = float(input(\"um número real:\"))\n",
        "print ( 'Soma:' , (( 2 * var1 ) * ( var2 / 2 )))\n",
        "print ( 'Produto:' , ( 3  *  var1 ) +  var3 )\n",
        "print ( 'Cubo:' , var3 ** 3 )"
      ],
      "metadata": {
        "colab": {
          "base_uri": "https://localhost:8080/"
        },
        "id": "eSs-5hMMLtFW",
        "outputId": "3c0c2009-3aed-4299-96e0-83f8c0f6b0ee"
      },
      "execution_count": 36,
      "outputs": [
        {
          "output_type": "stream",
          "name": "stdout",
          "text": [
            "primeiro número interio:4\n",
            "segundo número inteiro:6\n",
            "um número real:3.4\n",
            "Soma: 24.0\n",
            "Produto: 15.4\n",
            "Cubo: 39.303999999999995\n"
          ]
        }
      ]
    },
    {
      "cell_type": "code",
      "source": [
        "altura = float(input(\"Altura:\"))\n",
        "print ('Peso ideal:') , ((72.7*altura) - 58)"
      ],
      "metadata": {
        "colab": {
          "base_uri": "https://localhost:8080/",
          "height": 200
        },
        "id": "B6jCw8CpRnUI",
        "outputId": "94238501-4b6c-4c06-c631-4af2c2f7b702"
      },
      "execution_count": 72,
      "outputs": [
        {
          "name": "stdout",
          "output_type": "stream",
          "text": [
            "Altura:1.70\n"
          ]
        },
        {
          "output_type": "error",
          "ename": "TypeError",
          "evalue": "ignored",
          "traceback": [
            "\u001b[0;31m---------------------------------------------------------------------------\u001b[0m",
            "\u001b[0;31mTypeError\u001b[0m                                 Traceback (most recent call last)",
            "\u001b[0;32m<ipython-input-72-ad9cf5929e9e>\u001b[0m in \u001b[0;36m<module>\u001b[0;34m()\u001b[0m\n\u001b[1;32m      1\u001b[0m \u001b[0maltura\u001b[0m \u001b[0;34m=\u001b[0m \u001b[0mfloat\u001b[0m\u001b[0;34m(\u001b[0m\u001b[0minput\u001b[0m\u001b[0;34m(\u001b[0m\u001b[0;34m\"Altura:\"\u001b[0m\u001b[0;34m)\u001b[0m\u001b[0;34m)\u001b[0m\u001b[0;34m\u001b[0m\u001b[0;34m\u001b[0m\u001b[0m\n\u001b[0;32m----> 2\u001b[0;31m \u001b[0mprint\u001b[0m \u001b[0;34m(\u001b[0m\u001b[0;34m'Peso ideal:'\u001b[0m\u001b[0;34m)\u001b[0m \u001b[0;34m,\u001b[0m \u001b[0;34m(\u001b[0m\u001b[0;34m(\u001b[0m\u001b[0;36m72.7\u001b[0m\u001b[0;34m*\u001b[0m\u001b[0maltura\u001b[0m\u001b[0;34m)\u001b[0m \u001b[0;34m-\u001b[0m \u001b[0;36m58\u001b[0m\u001b[0;34m)\u001b[0m\u001b[0;34m\u001b[0m\u001b[0;34m\u001b[0m\u001b[0m\n\u001b[0m",
            "\u001b[0;31mTypeError\u001b[0m: 'tuple' object is not callable"
          ]
        }
      ]
    },
    {
      "cell_type": "code",
      "source": [
        "sexo = int(input(\"Escolha: 1- Sexo Masculino / 2- Sexo Feminino:\"))\n",
        "h = float(input(\"Altura:\"))\n",
        "peso = float(input(\"Peso:\"))\n",
        "\n",
        "peso_ideal = (72.7*h) - 58 if sexo == 1 else (62.1*h) - 44.7 "
      ],
      "metadata": {
        "id": "DYKg5Y65aMA0",
        "outputId": "827bef42-3f01-4894-ef07-b078b3da7039",
        "colab": {
          "base_uri": "https://localhost:8080/"
        }
      },
      "execution_count": 76,
      "outputs": [
        {
          "name": "stdout",
          "output_type": "stream",
          "text": [
            "Escolha: 1- Sexo Masculino / 2- Sexo Feminino:2\n",
            "Altura:1.63\n",
            "Peso:59\n"
          ]
        }
      ]
    },
    {
      "cell_type": "code",
      "source": [
        "peso = float(input('Peso:'))\n",
        "if peso > 50:\n",
        "\texcedente = peso - 50\n",
        "\tmulta = excedente * 4\n",
        "else:\n",
        "\texcedente = 0\n",
        "\tmulta = 0\n",
        "print ('Peso: %.2f Kg' %peso)\n",
        "print ('Excesso: %.2f Kg' %excedente)\n",
        "print ('Multa: R$ %.2f' %multa)"
      ],
      "metadata": {
        "id": "lxHQRGBhal7X",
        "outputId": "09b82978-d2f4-4a78-f9b4-2ecc9e1ed193",
        "colab": {
          "base_uri": "https://localhost:8080/",
          "height": 252
        }
      },
      "execution_count": 93,
      "outputs": [
        {
          "name": "stdout",
          "output_type": "stream",
          "text": [
            "Peso:54\n"
          ]
        },
        {
          "output_type": "error",
          "ename": "TypeError",
          "evalue": "ignored",
          "traceback": [
            "\u001b[0;31m---------------------------------------------------------------------------\u001b[0m",
            "\u001b[0;31mTypeError\u001b[0m                                 Traceback (most recent call last)",
            "\u001b[0;32m<ipython-input-93-f6843d339e7f>\u001b[0m in \u001b[0;36m<module>\u001b[0;34m()\u001b[0m\n\u001b[1;32m      6\u001b[0m         \u001b[0mexcedente\u001b[0m \u001b[0;34m=\u001b[0m \u001b[0;36m0\u001b[0m\u001b[0;34m\u001b[0m\u001b[0;34m\u001b[0m\u001b[0m\n\u001b[1;32m      7\u001b[0m         \u001b[0mmulta\u001b[0m \u001b[0;34m=\u001b[0m \u001b[0;36m0\u001b[0m\u001b[0;34m\u001b[0m\u001b[0;34m\u001b[0m\u001b[0m\n\u001b[0;32m----> 8\u001b[0;31m \u001b[0mprint\u001b[0m \u001b[0;34m(\u001b[0m\u001b[0;34m'Peso: %.2f Kg'\u001b[0m \u001b[0;34m%\u001b[0m\u001b[0mpeso\u001b[0m\u001b[0;34m)\u001b[0m\u001b[0;34m\u001b[0m\u001b[0;34m\u001b[0m\u001b[0m\n\u001b[0m\u001b[1;32m      9\u001b[0m \u001b[0mprint\u001b[0m \u001b[0;34m(\u001b[0m\u001b[0;34m'Excesso: %.2f Kg'\u001b[0m \u001b[0;34m%\u001b[0m\u001b[0mexcedente\u001b[0m\u001b[0;34m)\u001b[0m\u001b[0;34m\u001b[0m\u001b[0;34m\u001b[0m\u001b[0m\n\u001b[1;32m     10\u001b[0m \u001b[0mprint\u001b[0m \u001b[0;34m(\u001b[0m\u001b[0;34m'Multa: R$ %.2f'\u001b[0m \u001b[0;34m%\u001b[0m\u001b[0mmulta\u001b[0m\u001b[0;34m)\u001b[0m\u001b[0;34m\u001b[0m\u001b[0;34m\u001b[0m\u001b[0m\n",
            "\u001b[0;31mTypeError\u001b[0m: 'tuple' object is not callable"
          ]
        }
      ]
    },
    {
      "cell_type": "code",
      "source": [
        "tamanho  =  float ( input ( 'Tamanho do arquivo (MB): ' ))\n",
        "velocidade  =  float ( input ( 'Velocidade de Internet (MBps): ' ))\n",
        "print ( 'Tempo aproximado de download: %.0f Minutos'  % (( tamanho  /  velocidade ) *  60 ))"
      ],
      "metadata": {
        "id": "VtFzYBXJfla5",
        "outputId": "8d35c567-e5be-439d-c79d-bd81968a5a59",
        "colab": {
          "base_uri": "https://localhost:8080/",
          "height": 235
        }
      },
      "execution_count": 97,
      "outputs": [
        {
          "name": "stdout",
          "output_type": "stream",
          "text": [
            "Tamanho do arquivo (MB): 5\n",
            "Velocidade de Internet (MBps): 15\n"
          ]
        },
        {
          "output_type": "error",
          "ename": "TypeError",
          "evalue": "ignored",
          "traceback": [
            "\u001b[0;31m---------------------------------------------------------------------------\u001b[0m",
            "\u001b[0;31mTypeError\u001b[0m                                 Traceback (most recent call last)",
            "\u001b[0;32m<ipython-input-97-647560d0be9f>\u001b[0m in \u001b[0;36m<module>\u001b[0;34m()\u001b[0m\n\u001b[1;32m      1\u001b[0m \u001b[0mtamanho\u001b[0m  \u001b[0;34m=\u001b[0m  \u001b[0mfloat\u001b[0m \u001b[0;34m(\u001b[0m \u001b[0minput\u001b[0m \u001b[0;34m(\u001b[0m \u001b[0;34m'Tamanho do arquivo (MB): '\u001b[0m \u001b[0;34m)\u001b[0m\u001b[0;34m)\u001b[0m\u001b[0;34m\u001b[0m\u001b[0;34m\u001b[0m\u001b[0m\n\u001b[1;32m      2\u001b[0m \u001b[0mvelocidade\u001b[0m  \u001b[0;34m=\u001b[0m  \u001b[0mfloat\u001b[0m \u001b[0;34m(\u001b[0m \u001b[0minput\u001b[0m \u001b[0;34m(\u001b[0m \u001b[0;34m'Velocidade de Internet (MBps): '\u001b[0m \u001b[0;34m)\u001b[0m\u001b[0;34m)\u001b[0m\u001b[0;34m\u001b[0m\u001b[0;34m\u001b[0m\u001b[0m\n\u001b[0;32m----> 3\u001b[0;31m \u001b[0mprint\u001b[0m \u001b[0;34m(\u001b[0m \u001b[0;34m'Tempo aproximado de download: %.0f Minutos'\u001b[0m  \u001b[0;34m%\u001b[0m \u001b[0;34m(\u001b[0m\u001b[0;34m(\u001b[0m \u001b[0mtamanho\u001b[0m  \u001b[0;34m/\u001b[0m  \u001b[0mvelocidade\u001b[0m \u001b[0;34m)\u001b[0m \u001b[0;34m*\u001b[0m  \u001b[0;36m60\u001b[0m \u001b[0;34m)\u001b[0m\u001b[0;34m)\u001b[0m\u001b[0;34m\u001b[0m\u001b[0;34m\u001b[0m\u001b[0m\n\u001b[0m",
            "\u001b[0;31mTypeError\u001b[0m: 'tuple' object is not callable"
          ]
        }
      ]
    }
  ]
}