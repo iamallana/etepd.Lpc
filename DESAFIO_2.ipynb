{
  "nbformat": 4,
  "nbformat_minor": 0,
  "metadata": {
    "colab": {
      "provenance": [],
      "collapsed_sections": [],
      "authorship_tag": "ABX9TyNTMOK62NC96dAfEOz0UrfQ",
      "include_colab_link": true
    },
    "kernelspec": {
      "name": "python3",
      "display_name": "Python 3"
    },
    "language_info": {
      "name": "python"
    }
  },
  "cells": [
    {
      "cell_type": "markdown",
      "metadata": {
        "id": "view-in-github",
        "colab_type": "text"
      },
      "source": [
        "<a href=\"https://colab.research.google.com/github/iamallana/etepd.Lpc/blob/main/DESAFIO_2.ipynb\" target=\"_parent\"><img src=\"https://colab.research.google.com/assets/colab-badge.svg\" alt=\"Open In Colab\"/></a>"
      ]
    },
    {
      "cell_type": "code",
      "execution_count": null,
      "metadata": {
        "colab": {
          "base_uri": "https://localhost:8080/"
        },
        "id": "ahHDuPYMrlnO",
        "outputId": "9443d4d5-0e41-4387-f8f0-e7fa1c785711"
      },
      "outputs": [
        {
          "metadata": {
            "tags": null
          },
          "name": "stdout",
          "output_type": "stream",
          "text": [
            "################################\n",
            "######## COLETA SELETIVA ########\n",
            "################################\n",
            "# OPÇÕES: \n",
            "# 1 -> Cadastrar Ponto de Coleta\n",
            "# 2 -> Ler Pontos de Coleta.\n",
            "# 3 -> Atualizar Pontos de Coleta.\n",
            "# 4 -> Deletar Ponto de Coleta.\n",
            "# 5 -> Sair.\n"
          ]
        }
      ],
      "source": [
        "import sqlite3\n",
        "\n",
        "print(\"################################\")\n",
        "print(\"######## COLETA SELETIVA ########\")\n",
        "print(\"################################\")\n",
        "\n",
        "print(\"# OPÇÕES: \")\n",
        "print(\"# 1 -> Cadastrar Ponto de Coleta\")\n",
        "print(\"# 2 -> Ler Pontos de Coleta.\")\n",
        "print(\"# 3 -> Atualizar Pontos de Coleta.\")\n",
        "print(\"# 4 -> Deletar Ponto de Coleta.\")\n",
        "print(\"# 5 -> Sair.\")\n",
        "\n",
        "\n",
        "# Se não houver nenhum banco, o python irá criar um novo automaticamente\n",
        "conn = sqlite3.connect(\"storage.db\")\n",
        "\n",
        "\n",
        "db_cursor = conn.cursor()\n",
        "\n",
        "# criar tabela\n",
        "db_cursor.execute(\"\"\"\n",
        "CREATE TABLE IF NOT EXISTS coleta (\n",
        "        id INTEGER NOT NULL PRIMARY KEY AUTOINCREMENT,\n",
        "        titulo TEXT NOT NULL,\n",
        "        data TEXT NOT NULL,\n",
        "        ponto TEXT NOT NULL,\n",
        "        nome TEXT NOT NULL,\n",
        "        descricao TEXT NOT NULL,\n",
        "        status TEXT NOT NULL\n",
        ");\n",
        "\"\"\")\n",
        "\n",
        "\n",
        "# inserir valores\n",
        "def insert_coleta():\n",
        "    db_cursor.execute(\"INSERT INTO coleta(titulo, data, ponto, nome, descricao, status) VALUES (?, ?, ?, ?, ?, ?)\",(item_titulo,item_data,item_ponto, item_nome, item_descricao, item_status))\n",
        "    conn.commit()\n",
        "    print(\"Sucesso\")\n",
        "\n",
        "# selecionar coleta\n",
        "def select_coleta():\n",
        "    db_cursor.execute(\"SELECT * FROM coleta;\")\n",
        "    for line in db_cursor.fetchall():\n",
        "        print(line)\n",
        "\n",
        "# atualizar pontos\n",
        "def update_coleta():\n",
        "    db_cursor.execute(\"UPDATE coleta SET titulo = ?, data = ?, ponto = ?, nome = ?, descricao = ?, status = ? WHERE id = ?\",(new_titulo,new_data,new_ponto,new_nome,new_descricao,new_status,coleta_id))\n",
        "    conn.commit()\n",
        "    print(\"Sucesso\")\n",
        "\n",
        "# deletar pontos\n",
        "def delete_coleta():\n",
        "    db_cursor.execute(\"DELETE FROM coleta WHERE id = ?\",(coleta_id,))\n",
        "    conn.commit()\n",
        "    print(\"Deletado\")\n",
        "\n",
        "while True:\n",
        "    user_option = int(input(\"Selecione uma opção: \"))\n",
        "    if user_option == 1:\n",
        "        item_titulo = input(\"Titulo: \")\n",
        "        item_data = input(\"Data: \")\n",
        "        item_ponto = input(\"Ponto da coleta: \")\n",
        "        item_nome = input(\"Nome do cidadão: \")\n",
        "        item_descricao = input(\"Descrição da coleta: \")\n",
        "        item_status = input(\"Status: \")\n",
        "        insert_coleta()\n",
        "    elif user_option == 2:\n",
        "        select_coleta()\n",
        "    elif user_option == 3:\n",
        "        coleta_id = int(input(\"Insira o numero do Registro(ID): \"))\n",
        "        new_titulo = input(\"Titulo: \")\n",
        "        new_data = input(\"Data: \")\n",
        "        new_ponto = input(\"Ponto da coleta: \")\n",
        "        new_nome = input(\"Nome do cidadão: \")\n",
        "        new_descricao = input(\"Descrição da coleta: \")\n",
        "        new_status = input(\"Status: \")\n",
        "        update_coleta()\n",
        "    elif user_option == 4:\n",
        "        coleta_id = int(input(\"Insira o numero do Registro(ID) que será deletado: \"))\n",
        "        delete_coleta()\n",
        "    elif user_option == 5:\n",
        "        print(\"Saindo...\")\n",
        "        break\n",
        "    else:\n",
        "        print(\"Opção inválida\")"
      ]
    }
  ]
}