{
  "nbformat": 4,
  "nbformat_minor": 0,
  "metadata": {
    "colab": {
      "name": "Untitled0.ipynb",
      "provenance": [],
      "authorship_tag": "ABX9TyOCXtXxcNXbc+ur+OWXPiCO",
      "include_colab_link": true
    },
    "kernelspec": {
      "name": "python3",
      "display_name": "Python 3"
    },
    "language_info": {
      "name": "python"
    }
  },
  "cells": [
    {
      "cell_type": "markdown",
      "metadata": {
        "id": "view-in-github",
        "colab_type": "text"
      },
      "source": [
        "<a href=\"https://colab.research.google.com/github/iamallana/etepd.Lpc/blob/main/Untitled0.ipynb\" target=\"_parent\"><img src=\"https://colab.research.google.com/assets/colab-badge.svg\" alt=\"Open In Colab\"/></a>"
      ]
    },
    {
      "cell_type": "code",
      "execution_count": 6,
      "metadata": {
        "colab": {
          "base_uri": "https://localhost:8080/",
          "height": 132
        },
        "id": "gwZqDAkSbptH",
        "outputId": "b48d6066-652d-4669-82f1-d21c84f484a0"
      },
      "outputs": [
        {
          "output_type": "error",
          "ename": "IndentationError",
          "evalue": "ignored",
          "traceback": [
            "\u001b[0;36m  File \u001b[0;32m\"<ipython-input-6-c634251af79b>\"\u001b[0;36m, line \u001b[0;32m5\u001b[0m\n\u001b[0;31m    NOMES = ['JOSÉ', 'MARIA', 'CLOVES']\u001b[0m\n\u001b[0m    ^\u001b[0m\n\u001b[0;31mIndentationError\u001b[0m\u001b[0;31m:\u001b[0m unexpected indent\n"
          ]
        }
      ],
      "source": [
        "#ETE PORTO DIGITAL\n",
        "#PROFESSOR CLOVES ROCHA\n",
        "#ESTUDANTE ALLANA ALBUQUERQUE\n",
        "\n",
        " NOMES = ['JOSÉ', 'MARIA', 'CLOVES']\n",
        " FOR N IN NOMES:\n",
        "  PRINT(N)"
      ]
    }
  ]
}