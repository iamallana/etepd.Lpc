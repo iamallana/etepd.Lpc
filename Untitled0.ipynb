{
  "nbformat": 4,
  "nbformat_minor": 0,
  "metadata": {
    "colab": {
      "name": "Untitled0.ipynb",
      "provenance": [],
      "authorship_tag": "ABX9TyMHQmrWxg9WHL0D/hM026V+",
      "include_colab_link": true
    },
    "kernelspec": {
      "name": "python3",
      "display_name": "Python 3"
    },
    "language_info": {
      "name": "python"
    }
  },
  "cells": [
    {
      "cell_type": "markdown",
      "metadata": {
        "id": "view-in-github",
        "colab_type": "text"
      },
      "source": [
        "<a href=\"https://colab.research.google.com/github/iamallana/etepd.Lpc/blob/main/Untitled0.ipynb\" target=\"_parent\"><img src=\"https://colab.research.google.com/assets/colab-badge.svg\" alt=\"Open In Colab\"/></a>"
      ]
    },
    {
      "cell_type": "code",
      "execution_count": 3,
      "metadata": {
        "colab": {
          "base_uri": "https://localhost:8080/"
        },
        "id": "gwZqDAkSbptH",
        "outputId": "c02e424d-7a1a-4f17-89bc-6d246317177a"
      },
      "outputs": [
        {
          "output_type": "stream",
          "name": "stdout",
          "text": [
            "JOSÉ\n",
            "MARIA\n",
            "CLOVES\n"
          ]
        }
      ],
      "source": [
        "#ETE PORTO DIGITAL\n",
        "#PROFESSOR CLOVES ROCHA\n",
        "#ESTUDANTE ALLANA ALBUQUERQUE\n",
        "nomes = ['JOSÉ', 'MARIA', 'CLOVES']\n",
        "for n in nomes:\n",
        "  print(n)"
      ]
    }
  ]
}