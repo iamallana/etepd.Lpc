{
  "nbformat": 4,
  "nbformat_minor": 0,
  "metadata": {
    "colab": {
      "name": "desafio(estrutura de repetição)",
      "provenance": [],
      "authorship_tag": "ABX9TyMTagZ64AZcyAuuwJLD9s0P",
      "include_colab_link": true
    },
    "kernelspec": {
      "name": "python3",
      "display_name": "Python 3"
    },
    "language_info": {
      "name": "python"
    }
  },
  "cells": [
    {
      "cell_type": "markdown",
      "metadata": {
        "id": "view-in-github",
        "colab_type": "text"
      },
      "source": [
        "<a href=\"https://colab.research.google.com/github/iamallana/etepd.Lpc/blob/main/desafio(estrutura_de_repeti%C3%A7%C3%A3o).ipynb\" target=\"_parent\"><img src=\"https://colab.research.google.com/assets/colab-badge.svg\" alt=\"Open In Colab\"/></a>"
      ]
    },
    {
      "cell_type": "code",
      "execution_count": 6,
      "metadata": {
        "colab": {
          "base_uri": "https://localhost:8080/"
        },
        "id": "6S8KxEpTJSE9",
        "outputId": "f6334406-7ffb-47e7-f4de-6eaba25afa0a"
      },
      "outputs": [
        {
          "name": "stdout",
          "output_type": "stream",
          "text": [
            "digite um número de 0 a 10:8\n"
          ]
        }
      ],
      "source": [
        "nota = float(input(\"digite um número de 0 a 10:\"))\n",
        "while (nota>10) or (nota<0):\n",
        " nota = float(input(\"Nota digitada incorretamente. Digite uma nota entre 0 e 10: \"))"
      ]
    },
    {
      "cell_type": "code",
      "source": [
        "print(\"faça o seu cadastro:\")\n",
        "usuario=str(input(\"usuário--> \"))\n",
        "senha=str(input(\"senha-->\"))\n",
        "while usuario==senha:\n",
        "\tprint(\"ERRO: o usuário não pode ser igual a senha, tente novamente\")\n",
        "\tusuario=str(input(\"usuário--> \"))\n",
        "\tsenha=str(input(\"senha-->\"))\n",
        "else:\n",
        "\tprint(\"cadastrado efetuado com sucesso\")"
      ],
      "metadata": {
        "colab": {
          "base_uri": "https://localhost:8080/"
        },
        "id": "4QJgKsKTMxZz",
        "outputId": "6f59cb1c-1035-40b6-c355-7ebb922b2724"
      },
      "execution_count": 7,
      "outputs": [
        {
          "output_type": "stream",
          "name": "stdout",
          "text": [
            "faça o seu cadastro:\n",
            "usuário--> allanaaa\n",
            "senha-->allana1234\n",
            "cadastrado efetuado com sucesso\n"
          ]
        }
      ]
    },
    {
      "cell_type": "code",
      "source": [
        "populaçãoA=80000\n",
        "populaçãoB=200000\n",
        "ano=0\n",
        "while populaçãoA < populaçãoB:\n",
        "\tpopulaçãoA+=round((populaçãoA*3.0)/100)\n",
        "\tpopulaçãoB+=round((populaçãoB*1.5)/100)\n",
        "\tano=ano+1\n",
        "\n",
        "print(\"levará\",ano,\"anos para população da cidade A ser maior que a cidade B\")\n",
        "print(\"populaçãoB-->\",populaçãoB,\"habitantes\")\n",
        "print(\"populaçãoA-->\", populaçãoA,\"habitantes\")"
      ],
      "metadata": {
        "colab": {
          "base_uri": "https://localhost:8080/"
        },
        "id": "xPsPUslOOcUX",
        "outputId": "357ed93e-0709-4d10-b358-82296494a5d5"
      },
      "execution_count": 8,
      "outputs": [
        {
          "output_type": "stream",
          "name": "stdout",
          "text": [
            "levará 63 anos para população da cidade A ser maior que a cidade B\n",
            "populaçãoB--> 510969 habitantes\n",
            "populaçãoA--> 515034 habitantes\n"
          ]
        }
      ]
    },
    {
      "cell_type": "code",
      "source": [
        "populaçãoA=float(input(\"informe a população da cidade A: \"))\n",
        "populaçãoB=float(input(\"informe a população da cidade B: \"))\n",
        "ano=0\n",
        "taxa_crescimentoA=float(input(\"informe a taxa de crescimento da população da cidade A: \"))\n",
        "taxa_crescimentoB=float(input(\"informe a taxa de crescimento da população da cidade B: \"))\n",
        "while populaçãoA < populaçãoB:\n",
        "\tpopulaçãoA+=round((populaçãoA*taxa_crescimentoA)/100)\n",
        "\tpopulaçãoB+=round((populaçãoB*taxa_crescimentoB)/100)\n",
        "\tano=ano+1\n",
        "\n",
        "print(\"levará\",ano,\"anos para população da cidade A ser maior que a cidade B\")\n",
        "print(\"populaçãoB-->\",populaçãoB,\"habitantes\")\n",
        "print(\"populaçãoA-->\", populaçãoA,\"habitantes\")"
      ],
      "metadata": {
        "colab": {
          "base_uri": "https://localhost:8080/"
        },
        "id": "VkMOAVdaRmSd",
        "outputId": "9d78c977-4e33-45eb-a9eb-34a12b8867ed"
      },
      "execution_count": 11,
      "outputs": [
        {
          "output_type": "stream",
          "name": "stdout",
          "text": [
            "informe a população da cidade A: 70000\n",
            "informe a população da cidade B: 12000\n",
            "informe a taxa de crescimento da população da cidade A: 2\n",
            "informe a taxa de crescimento da população da cidade B: 3\n",
            "levará 0 anos para população da cidade A ser maior que a cidade B\n",
            "populaçãoB--> 12000.0 habitantes\n",
            "populaçãoA--> 70000.0 habitantes\n"
          ]
        }
      ]
    },
    {
      "cell_type": "code",
      "source": [
        "for i in range (1,21):\n",
        "\tprint (i)\n",
        "print(list(range(1,21)))"
      ],
      "metadata": {
        "colab": {
          "base_uri": "https://localhost:8080/"
        },
        "id": "ZZsM5LtgTKNz",
        "outputId": "f18c9c2e-b4cb-43a4-b22e-6fb9aee26ad8"
      },
      "execution_count": 14,
      "outputs": [
        {
          "output_type": "stream",
          "name": "stdout",
          "text": [
            "1\n",
            "2\n",
            "3\n",
            "4\n",
            "5\n",
            "6\n",
            "7\n",
            "8\n",
            "9\n",
            "10\n",
            "11\n",
            "12\n",
            "13\n",
            "14\n",
            "15\n",
            "16\n",
            "17\n",
            "18\n",
            "19\n",
            "20\n",
            "[1, 2, 3, 4, 5, 6, 7, 8, 9, 10, 11, 12, 13, 14, 15, 16, 17, 18, 19, 20]\n"
          ]
        }
      ]
    },
    {
      "cell_type": "code",
      "source": [
        "num1=float(input(\"digite o 1º numero:\"))\n",
        "num2=float(input(\"digite o 2º numero:\"))\n",
        "num3=float(input(\"digite o 3º numero:\"))\n",
        "num4=float(input(\"digite o 4º numero: \"))\n",
        "num5=float(input(\"digite o 5º numero:\"))\n",
        "if (num1 >num2 and num1 > num3 and num1 > num4 and num1  >num5):\n",
        "\tprint(\"o maior numero é o 1º=\", num1)\n",
        "if (num2 >num1 and num2 > num3 and num2 > num4 and num2  >num5):\n",
        "\tprint(\"o maior numero é o 2º=\", num2)\n",
        "if (num3 >num2 and num3 > num1 and num3 > num4 and num3  >num5):\n",
        "\tprint(\"o maior numero é o 3º=\", num3)\t\n",
        "elif (num4 >num2 and num4 > num3 and num4 > num1 and num4  >num5):\n",
        "\tprint(\"o maior numero é o 4º=\", num4)\t\n",
        "else:\n",
        "\tprint(\"o maior numero é o 5º=\", num5)"
      ],
      "metadata": {
        "colab": {
          "base_uri": "https://localhost:8080/"
        },
        "id": "QbA4o9PXUF1W",
        "outputId": "75bb5334-0e50-4fe3-8883-ab1fa966387f"
      },
      "execution_count": 18,
      "outputs": [
        {
          "output_type": "stream",
          "name": "stdout",
          "text": [
            "digite o 1º numero:02\n",
            "digite o 2º numero:17\n",
            "digite o 3º numero:19\n",
            "digite o 4º numero: 20\n",
            "digite o 5º numero:03\n",
            "o maior numero é o 4º= 20.0\n"
          ]
        }
      ]
    },
    {
      "cell_type": "code",
      "source": [
        "num1=float(input(\"digite o 1º numero:\"))\n",
        "num2=float(input(\"digite o 2º numero:\"))\n",
        "num3=float(input(\"digite o 3º numero:\"))\n",
        "num4=float(input(\"digite o 4º numero:\"))\n",
        "num5=float(input(\"digite o 5º numero:\"))\n",
        "soma=num1+num2+num3+num4+num5\n",
        "print(\"soma\",soma,)\n",
        "print(\"média\",soma/5)"
      ],
      "metadata": {
        "colab": {
          "base_uri": "https://localhost:8080/"
        },
        "id": "7DGYmBIhV6J8",
        "outputId": "6020326a-49d4-4d5d-d0bf-2e74898a151d"
      },
      "execution_count": 19,
      "outputs": [
        {
          "output_type": "stream",
          "name": "stdout",
          "text": [
            "digite o 1º numero:40\n",
            "digite o 2º numero:23\n",
            "digite o 3º numero:21\n",
            "digite o 4º numero:12\n",
            "digite o 5º numero:6\n",
            "soma 102.0\n",
            "média 20.4\n"
          ]
        }
      ]
    },
    {
      "cell_type": "code",
      "source": [
        "for i in range(1,51,2):\n",
        "    print (i)"
      ],
      "metadata": {
        "colab": {
          "base_uri": "https://localhost:8080/"
        },
        "id": "X4B113ToWnel",
        "outputId": "5618596a-1786-40ce-df83-c6404afe0e87"
      },
      "execution_count": 20,
      "outputs": [
        {
          "output_type": "stream",
          "name": "stdout",
          "text": [
            "1\n",
            "3\n",
            "5\n",
            "7\n",
            "9\n",
            "11\n",
            "13\n",
            "15\n",
            "17\n",
            "19\n",
            "21\n",
            "23\n",
            "25\n",
            "27\n",
            "29\n",
            "31\n",
            "33\n",
            "35\n",
            "37\n",
            "39\n",
            "41\n",
            "43\n",
            "45\n",
            "47\n",
            "49\n"
          ]
        }
      ]
    },
    {
      "cell_type": "code",
      "source": [
        "num1=int(input(\"digite um numero:\"))\n",
        "num2=int(input(\"digite outro numero:\"))\n",
        "while num2<num1:\n",
        "\tnum1=int(input(\"digite um numero \"))\n",
        "\tnum2=int(input(\"digite outro numero \"))\n",
        "else:\n",
        "\tfor i in range(num1,num2,1):\n",
        "\t\tprint(i)"
      ],
      "metadata": {
        "colab": {
          "base_uri": "https://localhost:8080/"
        },
        "id": "w38nqoTpW_cK",
        "outputId": "e130967b-dd1d-470d-80f2-13030c2afb1a"
      },
      "execution_count": 22,
      "outputs": [
        {
          "output_type": "stream",
          "name": "stdout",
          "text": [
            "digite um numero:2\n",
            "digite outro numero:8\n",
            "2\n",
            "3\n",
            "4\n",
            "5\n",
            "6\n",
            "7\n"
          ]
        }
      ]
    },
    {
      "cell_type": "code",
      "source": [
        "inicio=int(input(\"digite o inicio do intervalo:\"))\n",
        "fim=int(input(\"digite o fim do intervalo:\"))\n",
        "soma=0\n",
        "while (inicio<fim-1):\n",
        "    inicio=inicio+1\n",
        "    print(inicio)\n",
        "    soma=inicio+soma\n",
        "    \n",
        "print(\"a soma dos intervalos é =\",soma)"
      ],
      "metadata": {
        "colab": {
          "base_uri": "https://localhost:8080/"
        },
        "id": "fHlLHERtYVsO",
        "outputId": "ae0e8fe4-2b9d-4d4c-d50f-71b5b9d79b7c"
      },
      "execution_count": 23,
      "outputs": [
        {
          "output_type": "stream",
          "name": "stdout",
          "text": [
            "digite o inicio do intervalo:2\n",
            "digite o fim do intervalo:8\n",
            "3\n",
            "4\n",
            "5\n",
            "6\n",
            "7\n",
            "a soma dos intervalos é = 25\n"
          ]
        }
      ]
    },
    {
      "cell_type": "code",
      "source": [
        "quantCD = int(input(\"Digite a quantidade de CDs: \"))\n",
        "print(\"\")\n",
        "a = 0\n",
        "valorTotal = 0\n",
        "for x in range(quantCD):\n",
        "\tvalorCD = float(input(\"Digite o valor do CD: \"))\n",
        "\tvalorTotal = valorTotal + valorCD\n",
        "\tvalorMedio = valorTotal / quantCD\n",
        "\ta = a + 1\n",
        "print(\"\")\n",
        "print(\"O valor total gasto: R$\", valorTotal)\n",
        "print(\"O valor médio gasto por cada CD foi de: R$\", valorMedio)"
      ],
      "metadata": {
        "colab": {
          "base_uri": "https://localhost:8080/"
        },
        "id": "o0nL3lLSYtre",
        "outputId": "1f5cbca0-4656-4d70-e265-ab90fb81e983"
      },
      "execution_count": 26,
      "outputs": [
        {
          "output_type": "stream",
          "name": "stdout",
          "text": [
            "Digite a quantidade de CDs: 3\n",
            "\n",
            "Digite o valor do CD: 5\n",
            "Digite o valor do CD: 3\n",
            "Digite o valor do CD: 12\n",
            "\n",
            "O valor total gasto: R$ 20.0\n",
            "O valor médio gasto por cada CD foi de: R$ 6.666666666666667\n"
          ]
        }
      ]
    },
    {
      "cell_type": "code",
      "source": [
        "aluno = []\n",
        "altura = []\n",
        "for i in range (0, 10):\n",
        "  addStudents = str(input(\"Adicione o número aluno:\\n\"))\n",
        "  aluno.append(addStudents)\n",
        "  addHeights = float(input(\"Agora sua respectiva altura:\\n\"))\n",
        "  altura.append(addHeights)\n",
        "\n",
        "x = altura.index(max(altura))\n",
        "y = aluno[x]\n",
        "print(\"O maior aluno foi cadastrado com o número: \" + str(y) + \". Medindo respectivamente: \" + str(max(altura)))"
      ],
      "metadata": {
        "colab": {
          "base_uri": "https://localhost:8080/"
        },
        "id": "fkfMi9FIbxoO",
        "outputId": "cd74d5ad-0a14-4ebe-e33c-9f8e2b2bb45c"
      },
      "execution_count": 34,
      "outputs": [
        {
          "output_type": "stream",
          "name": "stdout",
          "text": [
            "Adicione o número aluno:\n",
            "1\n",
            "Agora sua respectiva altura:\n",
            "123\n",
            "Adicione o número aluno:\n",
            "2\n",
            "Agora sua respectiva altura:\n",
            "134\n",
            "Adicione o número aluno:\n",
            "3\n",
            "Agora sua respectiva altura:\n",
            "145\n",
            "Adicione o número aluno:\n",
            "4\n",
            "Agora sua respectiva altura:\n",
            "156\n",
            "Adicione o número aluno:\n",
            "5\n",
            "Agora sua respectiva altura:\n",
            "167\n",
            "Adicione o número aluno:\n",
            "6\n",
            "Agora sua respectiva altura:\n",
            "168\n",
            "Adicione o número aluno:\n",
            "7\n",
            "Agora sua respectiva altura:\n",
            "178\n",
            "Adicione o número aluno:\n",
            "8\n",
            "Agora sua respectiva altura:\n",
            "187\n",
            "Adicione o número aluno:\n",
            "9\n",
            "Agora sua respectiva altura:\n",
            "176\n",
            "Adicione o número aluno:\n",
            "10\n",
            "Agora sua respectiva altura:\n",
            "175\n",
            "O maior aluno foi cadastrado com o número: 8. Medindo respectivamente: 187.0\n"
          ]
        }
      ]
    },
    {
      "cell_type": "code",
      "source": [
        "\n",
        "n = 1\n",
        "c1 = 0\n",
        "c2 = 0\n",
        "c3 = 0\n",
        "c4 = 0\n",
        "while n> 0:\n",
        "  n = int(input(\"Digite um número\"))\n",
        "if n>= 0and n<= 25:c1 = c1+ 1\n",
        "elif n>= 26and n<= 50:c2 = c2+ 1\n",
        "elif n>= 51and n<= 75:c3 = c3+ 1\n",
        "elif n>= 76and n<= 100:c4 = c4+ 1\n",
        "print(\"A quantidade de números entre 0 e 25 é: \", c1,\", entre votos26-50 é: \", c2,\", entre votos 51-75 é: \", c3,\", e entre votos 76-100é: \", c3)\n"
      ],
      "metadata": {
        "id": "KMuzpQXJhOYl"
      },
      "execution_count": null,
      "outputs": []
    },
    {
      "cell_type": "code",
      "source": [
        "n = int(input(\"Digite n: \"))\n",
        "m = 1\n",
        "print(\"S = \", end=\"\")\n",
        "for i in range(1, n + 1):\n",
        "    print(f\"{i}/{m}\", end=\"\")\n",
        "    if i < n and n > 1:\n",
        "        print(\" + \", end=\"\")\n",
        "    else:\n",
        "        print(\".\")\n",
        "    soma += i / m\n",
        "    m += 2\n",
        "print(f\"A soma da série deu {soma:.2f}\")"
      ],
      "metadata": {
        "colab": {
          "base_uri": "https://localhost:8080/"
        },
        "id": "AAuvPaJcirwP",
        "outputId": "62c4262e-195a-4e7f-c6a7-1c3f051c33e9"
      },
      "execution_count": 41,
      "outputs": [
        {
          "output_type": "stream",
          "name": "stdout",
          "text": [
            "Digite n: 4\n",
            "S = 1/1 + 2/3 + 3/5 + 4/7.\n",
            "A soma da série deu 27.84\n"
          ]
        }
      ]
    },
    {
      "cell_type": "code",
      "source": [
        ""
      ],
      "metadata": {
        "id": "jVhxQO_FhrO2"
      },
      "execution_count": null,
      "outputs": []
    }
  ]
}